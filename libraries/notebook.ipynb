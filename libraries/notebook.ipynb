{
 "cells": [
  {
   "cell_type": "markdown",
   "metadata": {},
   "source": [
    "#H1\n",
    "##H2\n",
    "###H3\n",
    "\n",
    "**text**\n",
    "\n",
    "*italics*\n",
    "\n",
    "~~strikethrough~~\n",
    "\n",
    "> blockquote\n",
    "\n",
    "1. item 1\n",
    "2. item 2\n",
    "\n",
    "- item 1\n",
    "- item 2\n",
    "\n",
    "[title of link](https:mylink.com)\n",
    "\n",
    "table\n",
    "\n",
    "| column 1 | column 2 |\n",
    "|----------|----------|\n",
    "| item 1   | item 2   |"
   ]
  }
 ],
 "metadata": {
  "language_info": {
   "name": "python"
  }
 },
 "nbformat": 4,
 "nbformat_minor": 2
}
