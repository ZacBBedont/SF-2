{
 "cells": [
  {
   "cell_type": "markdown",
   "metadata": {},
   "source": [
    "# part 1"
   ]
  },
  {
   "cell_type": "markdown",
   "metadata": {},
   "source": [
    "import all necessary libraries (i.e. pandas and matplotlib)"
   ]
  },
  {
   "cell_type": "code",
   "execution_count": 1,
   "metadata": {},
   "outputs": [],
   "source": [
    "# your code here\n",
    "import pandas as pd\n",
    "import matplotlib.pyplot as plt\n"
   ]
  },
  {
   "cell_type": "markdown",
   "metadata": {},
   "source": [
    "Read the provided file `titanic.csv` into a DataFrame"
   ]
  },
  {
   "cell_type": "code",
   "execution_count": 2,
   "metadata": {},
   "outputs": [],
   "source": [
    "# your code here\n",
    "titanic_df = pd.read_csv(\"titanic.csv\")"
   ]
  },
  {
   "cell_type": "markdown",
   "metadata": {},
   "source": [
    "print the following\n",
    "- entries from the data frame\n",
    "- descriptive statistics, what is the average age, the maximum number of siblings and children? \n",
    "- general information\n",
    "- first 5 entries\n",
    "- first 15 entries\n",
    "- last 5 entries\n",
    "- last 15 entries\n",
    "- sample of random 10 entries"
   ]
  },
  {
   "cell_type": "code",
   "execution_count": 9,
   "metadata": {},
   "outputs": [
    {
     "name": "stdout",
     "output_type": "stream",
     "text": [
      "     survived  pclass     sex   age  sibsp     fare   class    who  \\\n",
      "0           0       3    male  22.0      1   7.2500   Third    man   \n",
      "1           1       1  female  38.0      1  71.2833   First  woman   \n",
      "2           1       3  female  26.0      0   7.9250   Third  woman   \n",
      "3           1       1  female  35.0      1  53.1000   First  woman   \n",
      "4           0       3    male  35.0      0   8.0500   Third    man   \n",
      "..        ...     ...     ...   ...    ...      ...     ...    ...   \n",
      "886         0       2    male  27.0      0  13.0000  Second    man   \n",
      "887         1       1  female  19.0      0  30.0000   First  woman   \n",
      "888         0       3  female   NaN      1  23.4500   Third  woman   \n",
      "889         1       1    male  26.0      0  30.0000   First    man   \n",
      "890         0       3    male  32.0      0   7.7500   Third    man   \n",
      "\n",
      "     adult_male deck  embark_town alive  alone  \n",
      "0          True  NaN  Southampton    no  False  \n",
      "1         False    C    Cherbourg   yes  False  \n",
      "2         False  NaN  Southampton   yes   True  \n",
      "3         False    C  Southampton   yes  False  \n",
      "4          True  NaN  Southampton    no   True  \n",
      "..          ...  ...          ...   ...    ...  \n",
      "886        True  NaN  Southampton    no   True  \n",
      "887       False    B  Southampton   yes   True  \n",
      "888       False  NaN  Southampton    no  False  \n",
      "889        True    C    Cherbourg   yes   True  \n",
      "890        True  NaN   Queenstown    no   True  \n",
      "\n",
      "[891 rows x 13 columns]\n",
      "         survived      pclass         age       sibsp        fare\n",
      "count  891.000000  891.000000  714.000000  891.000000  891.000000\n",
      "mean     0.383838    2.308642   29.699118    0.523008   32.204208\n",
      "std      0.486592    0.836071   14.526497    1.102743   49.693429\n",
      "min      0.000000    1.000000    0.420000    0.000000    0.000000\n",
      "25%      0.000000    2.000000   20.125000    0.000000    7.910400\n",
      "50%      0.000000    3.000000   28.000000    0.000000   14.454200\n",
      "75%      1.000000    3.000000   38.000000    1.000000   31.000000\n",
      "max      1.000000    3.000000   80.000000    8.000000  512.329200\n",
      "   survived  pclass     sex   age  sibsp     fare  class    who  adult_male  \\\n",
      "0         0       3    male  22.0      1   7.2500  Third    man        True   \n",
      "1         1       1  female  38.0      1  71.2833  First  woman       False   \n",
      "2         1       3  female  26.0      0   7.9250  Third  woman       False   \n",
      "3         1       1  female  35.0      1  53.1000  First  woman       False   \n",
      "4         0       3    male  35.0      0   8.0500  Third    man        True   \n",
      "\n",
      "  deck  embark_town alive  alone  \n",
      "0  NaN  Southampton    no  False  \n",
      "1    C    Cherbourg   yes  False  \n",
      "2  NaN  Southampton   yes   True  \n",
      "3    C  Southampton   yes  False  \n",
      "4  NaN  Southampton    no   True  \n",
      "    survived  pclass     sex   age  sibsp     fare   class    who  adult_male  \\\n",
      "0          0       3    male  22.0      1   7.2500   Third    man        True   \n",
      "1          1       1  female  38.0      1  71.2833   First  woman       False   \n",
      "2          1       3  female  26.0      0   7.9250   Third  woman       False   \n",
      "3          1       1  female  35.0      1  53.1000   First  woman       False   \n",
      "4          0       3    male  35.0      0   8.0500   Third    man        True   \n",
      "5          0       3    male   NaN      0   8.4583   Third    man        True   \n",
      "6          0       1    male  54.0      0  51.8625   First    man        True   \n",
      "7          0       3    male   2.0      3  21.0750   Third  child       False   \n",
      "8          1       3  female  27.0      0  11.1333   Third  woman       False   \n",
      "9          1       2  female  14.0      1  30.0708  Second  child       False   \n",
      "10         1       3  female   4.0      1  16.7000   Third  child       False   \n",
      "11         1       1  female  58.0      0  26.5500   First  woman       False   \n",
      "12         0       3    male  20.0      0   8.0500   Third    man        True   \n",
      "13         0       3    male  39.0      1  31.2750   Third    man        True   \n",
      "14         0       3  female  14.0      0   7.8542   Third  child       False   \n",
      "\n",
      "   deck  embark_town alive  alone  \n",
      "0   NaN  Southampton    no  False  \n",
      "1     C    Cherbourg   yes  False  \n",
      "2   NaN  Southampton   yes   True  \n",
      "3     C  Southampton   yes  False  \n",
      "4   NaN  Southampton    no   True  \n",
      "5   NaN   Queenstown    no   True  \n",
      "6     E  Southampton    no   True  \n",
      "7   NaN  Southampton    no  False  \n",
      "8   NaN  Southampton   yes  False  \n",
      "9   NaN    Cherbourg   yes  False  \n",
      "10    G  Southampton   yes  False  \n",
      "11    C  Southampton   yes   True  \n",
      "12  NaN  Southampton    no   True  \n",
      "13  NaN  Southampton    no  False  \n",
      "14  NaN  Southampton    no   True  \n",
      "     survived  pclass     sex   age  sibsp   fare   class    who  adult_male  \\\n",
      "886         0       2    male  27.0      0  13.00  Second    man        True   \n",
      "887         1       1  female  19.0      0  30.00   First  woman       False   \n",
      "888         0       3  female   NaN      1  23.45   Third  woman       False   \n",
      "889         1       1    male  26.0      0  30.00   First    man        True   \n",
      "890         0       3    male  32.0      0   7.75   Third    man        True   \n",
      "\n",
      "    deck  embark_town alive  alone  \n",
      "886  NaN  Southampton    no   True  \n",
      "887    B  Southampton   yes   True  \n",
      "888  NaN  Southampton    no  False  \n",
      "889    C    Cherbourg   yes   True  \n",
      "890  NaN   Queenstown    no   True  \n",
      "     survived  pclass     sex   age  sibsp     fare   class    who  \\\n",
      "876         0       3    male  20.0      0   9.8458   Third    man   \n",
      "877         0       3    male  19.0      0   7.8958   Third    man   \n",
      "878         0       3    male   NaN      0   7.8958   Third    man   \n",
      "879         1       1  female  56.0      0  83.1583   First  woman   \n",
      "880         1       2  female  25.0      0  26.0000  Second  woman   \n",
      "881         0       3    male  33.0      0   7.8958   Third    man   \n",
      "882         0       3  female  22.0      0  10.5167   Third  woman   \n",
      "883         0       2    male  28.0      0  10.5000  Second    man   \n",
      "884         0       3    male  25.0      0   7.0500   Third    man   \n",
      "885         0       3  female  39.0      0  29.1250   Third  woman   \n",
      "886         0       2    male  27.0      0  13.0000  Second    man   \n",
      "887         1       1  female  19.0      0  30.0000   First  woman   \n",
      "888         0       3  female   NaN      1  23.4500   Third  woman   \n",
      "889         1       1    male  26.0      0  30.0000   First    man   \n",
      "890         0       3    male  32.0      0   7.7500   Third    man   \n",
      "\n",
      "     adult_male deck  embark_town alive  alone  \n",
      "876        True  NaN  Southampton    no   True  \n",
      "877        True  NaN  Southampton    no   True  \n",
      "878        True  NaN  Southampton    no   True  \n",
      "879       False    C    Cherbourg   yes  False  \n",
      "880       False  NaN  Southampton   yes  False  \n",
      "881        True  NaN  Southampton    no   True  \n",
      "882       False  NaN  Southampton    no   True  \n",
      "883        True  NaN  Southampton    no   True  \n",
      "884        True  NaN  Southampton    no   True  \n",
      "885       False  NaN   Queenstown    no  False  \n",
      "886        True  NaN  Southampton    no   True  \n",
      "887       False    B  Southampton   yes   True  \n",
      "888       False  NaN  Southampton    no  False  \n",
      "889        True    C    Cherbourg   yes   True  \n",
      "890        True  NaN   Queenstown    no   True  \n",
      "     survived  pclass     sex   age  sibsp     fare   class    who  \\\n",
      "637         0       2    male  31.0      1  26.2500  Second    man   \n",
      "166         1       1  female   NaN      0  55.0000   First  woman   \n",
      "248         1       1    male  37.0      1  52.5542   First    man   \n",
      "281         0       3    male  28.0      0   7.8542   Third    man   \n",
      "273         0       1    male  37.0      0  29.7000   First    man   \n",
      "669         1       1  female   NaN      1  52.0000   First  woman   \n",
      "404         0       3  female  20.0      0   8.6625   Third  woman   \n",
      "479         1       3  female   2.0      0  12.2875   Third  child   \n",
      "804         1       3    male  27.0      0   6.9750   Third    man   \n",
      "90          0       3    male  29.0      0   8.0500   Third    man   \n",
      "\n",
      "     adult_male deck  embark_town alive  alone  \n",
      "637        True  NaN  Southampton    no  False  \n",
      "166       False    E  Southampton   yes  False  \n",
      "248        True    D  Southampton   yes  False  \n",
      "281        True  NaN  Southampton    no   True  \n",
      "273        True    C    Cherbourg    no  False  \n",
      "669       False    C  Southampton   yes  False  \n",
      "404       False  NaN  Southampton    no   True  \n",
      "479       False  NaN  Southampton   yes  False  \n",
      "804        True  NaN  Southampton   yes   True  \n",
      "90         True  NaN  Southampton    no   True  \n"
     ]
    }
   ],
   "source": [
    "# your code here\n",
    "print(titanic_df)\n",
    "print(titanic_df.describe())\n",
    "print(titanic_df[:5])\n",
    "print(titanic_df[:15])\n",
    "print(titanic_df[-5:])\n",
    "print(titanic_df[-15:])\n",
    "print(titanic_df.sample(10))"
   ]
  },
  {
   "cell_type": "markdown",
   "metadata": {},
   "source": [
    "draw a histogram for age distribution using `matplotlib`"
   ]
  },
  {
   "cell_type": "code",
   "execution_count": 17,
   "metadata": {},
   "outputs": [
    {
     "data": {
      "text/plain": [
       "(array([ 54.,  46., 177., 169., 118.,  70.,  45.,  24.,   9.,   2.]),\n",
       " array([ 0.42 ,  8.378, 16.336, 24.294, 32.252, 40.21 , 48.168, 56.126,\n",
       "        64.084, 72.042, 80.   ]),\n",
       " <BarContainer object of 10 artists>)"
      ]
     },
     "execution_count": 17,
     "metadata": {},
     "output_type": "execute_result"
    },
    {
     "data": {
      "image/png": "[encoded data removed]",
      "text/plain": [
       "<Figure size 640x480 with 1 Axes>"
      ]
     },
     "metadata": {},
     "output_type": "display_data"
    }
   ],
   "source": [
    "# yoru code here\n",
    "points = titanic_df[\"age\"].to_numpy()\n",
    "plt.hist(points)"
   ]
  },
  {
   "cell_type": "markdown",
   "metadata": {},
   "source": [
    "- Create a new DataFrame with only entries where age > 30.  \n",
    "- Give number of such entires\n",
    "- show only the women entries, how many  are there over the age of 30\n",
    "- the men entries, how many men are there over the age of 30\n",
    "- plot the new histogram for all ages >30, how does this histogram differ from the one you plotted above?"
   ]
  },
  {
   "cell_type": "code",
   "execution_count": 30,
   "metadata": {},
   "outputs": [
    {
     "data": {
      "text/html": [
       "<div>\n",
       "<style scoped>\n",
       "    .dataframe tbody tr th:only-of-type {\n",
       "        vertical-align: middle;\n",
       "    }\n",
       "\n",
       "    .dataframe tbody tr th {\n",
       "        vertical-align: top;\n",
       "    }\n",
       "\n",
       "    .dataframe thead th {\n",
       "        text-align: right;\n",
       "    }\n",
       "</style>\n",
       "<table border=\"1\" class=\"dataframe\">\n",
       "  <thead>\n",
       "    <tr style=\"text-align: right;\">\n",
       "      <th></th>\n",
       "      <th>survived</th>\n",
       "      <th>pclass</th>\n",
       "      <th>sex</th>\n",
       "      <th>age</th>\n",
       "      <th>sibsp</th>\n",
       "      <th>fare</th>\n",
       "      <th>class</th>\n",
       "      <th>who</th>\n",
       "      <th>adult_male</th>\n",
       "      <th>deck</th>\n",
       "      <th>embark_town</th>\n",
       "      <th>alive</th>\n",
       "      <th>alone</th>\n",
       "    </tr>\n",
       "  </thead>\n",
       "  <tbody>\n",
       "    <tr>\n",
       "      <th>1</th>\n",
       "      <td>1</td>\n",
       "      <td>1</td>\n",
       "      <td>female</td>\n",
       "      <td>38.0</td>\n",
       "      <td>1</td>\n",
       "      <td>71.2833</td>\n",
       "      <td>First</td>\n",
       "      <td>woman</td>\n",
       "      <td>False</td>\n",
       "      <td>C</td>\n",
       "      <td>Cherbourg</td>\n",
       "      <td>yes</td>\n",
       "      <td>False</td>\n",
       "    </tr>\n",
       "    <tr>\n",
       "      <th>3</th>\n",
       "      <td>1</td>\n",
       "      <td>1</td>\n",
       "      <td>female</td>\n",
       "      <td>35.0</td>\n",
       "      <td>1</td>\n",
       "      <td>53.1000</td>\n",
       "      <td>First</td>\n",
       "      <td>woman</td>\n",
       "      <td>False</td>\n",
       "      <td>C</td>\n",
       "      <td>Southampton</td>\n",
       "      <td>yes</td>\n",
       "      <td>False</td>\n",
       "    </tr>\n",
       "    <tr>\n",
       "      <th>11</th>\n",
       "      <td>1</td>\n",
       "      <td>1</td>\n",
       "      <td>female</td>\n",
       "      <td>58.0</td>\n",
       "      <td>0</td>\n",
       "      <td>26.5500</td>\n",
       "      <td>First</td>\n",
       "      <td>woman</td>\n",
       "      <td>False</td>\n",
       "      <td>C</td>\n",
       "      <td>Southampton</td>\n",
       "      <td>yes</td>\n",
       "      <td>True</td>\n",
       "    </tr>\n",
       "    <tr>\n",
       "      <th>15</th>\n",
       "      <td>1</td>\n",
       "      <td>2</td>\n",
       "      <td>female</td>\n",
       "      <td>55.0</td>\n",
       "      <td>0</td>\n",
       "      <td>16.0000</td>\n",
       "      <td>Second</td>\n",
       "      <td>woman</td>\n",
       "      <td>False</td>\n",
       "      <td>NaN</td>\n",
       "      <td>Southampton</td>\n",
       "      <td>yes</td>\n",
       "      <td>True</td>\n",
       "    </tr>\n",
       "    <tr>\n",
       "      <th>18</th>\n",
       "      <td>0</td>\n",
       "      <td>3</td>\n",
       "      <td>female</td>\n",
       "      <td>31.0</td>\n",
       "      <td>1</td>\n",
       "      <td>18.0000</td>\n",
       "      <td>Third</td>\n",
       "      <td>woman</td>\n",
       "      <td>False</td>\n",
       "      <td>NaN</td>\n",
       "      <td>Southampton</td>\n",
       "      <td>no</td>\n",
       "      <td>False</td>\n",
       "    </tr>\n",
       "    <tr>\n",
       "      <th>...</th>\n",
       "      <td>...</td>\n",
       "      <td>...</td>\n",
       "      <td>...</td>\n",
       "      <td>...</td>\n",
       "      <td>...</td>\n",
       "      <td>...</td>\n",
       "      <td>...</td>\n",
       "      <td>...</td>\n",
       "      <td>...</td>\n",
       "      <td>...</td>\n",
       "      <td>...</td>\n",
       "      <td>...</td>\n",
       "      <td>...</td>\n",
       "    </tr>\n",
       "    <tr>\n",
       "      <th>862</th>\n",
       "      <td>1</td>\n",
       "      <td>1</td>\n",
       "      <td>female</td>\n",
       "      <td>48.0</td>\n",
       "      <td>0</td>\n",
       "      <td>25.9292</td>\n",
       "      <td>First</td>\n",
       "      <td>woman</td>\n",
       "      <td>False</td>\n",
       "      <td>D</td>\n",
       "      <td>Southampton</td>\n",
       "      <td>yes</td>\n",
       "      <td>True</td>\n",
       "    </tr>\n",
       "    <tr>\n",
       "      <th>865</th>\n",
       "      <td>1</td>\n",
       "      <td>2</td>\n",
       "      <td>female</td>\n",
       "      <td>42.0</td>\n",
       "      <td>0</td>\n",
       "      <td>13.0000</td>\n",
       "      <td>Second</td>\n",
       "      <td>woman</td>\n",
       "      <td>False</td>\n",
       "      <td>NaN</td>\n",
       "      <td>Southampton</td>\n",
       "      <td>yes</td>\n",
       "      <td>True</td>\n",
       "    </tr>\n",
       "    <tr>\n",
       "      <th>871</th>\n",
       "      <td>1</td>\n",
       "      <td>1</td>\n",
       "      <td>female</td>\n",
       "      <td>47.0</td>\n",
       "      <td>1</td>\n",
       "      <td>52.5542</td>\n",
       "      <td>First</td>\n",
       "      <td>woman</td>\n",
       "      <td>False</td>\n",
       "      <td>D</td>\n",
       "      <td>Southampton</td>\n",
       "      <td>yes</td>\n",
       "      <td>False</td>\n",
       "    </tr>\n",
       "    <tr>\n",
       "      <th>879</th>\n",
       "      <td>1</td>\n",
       "      <td>1</td>\n",
       "      <td>female</td>\n",
       "      <td>56.0</td>\n",
       "      <td>0</td>\n",
       "      <td>83.1583</td>\n",
       "      <td>First</td>\n",
       "      <td>woman</td>\n",
       "      <td>False</td>\n",
       "      <td>C</td>\n",
       "      <td>Cherbourg</td>\n",
       "      <td>yes</td>\n",
       "      <td>False</td>\n",
       "    </tr>\n",
       "    <tr>\n",
       "      <th>885</th>\n",
       "      <td>0</td>\n",
       "      <td>3</td>\n",
       "      <td>female</td>\n",
       "      <td>39.0</td>\n",
       "      <td>0</td>\n",
       "      <td>29.1250</td>\n",
       "      <td>Third</td>\n",
       "      <td>woman</td>\n",
       "      <td>False</td>\n",
       "      <td>NaN</td>\n",
       "      <td>Queenstown</td>\n",
       "      <td>no</td>\n",
       "      <td>False</td>\n",
       "    </tr>\n",
       "  </tbody>\n",
       "</table>\n",
       "<p>103 rows × 13 columns</p>\n",
       "</div>"
      ],
      "text/plain": [
       "     survived  pclass     sex   age  sibsp     fare   class    who  \\\n",
       "1           1       1  female  38.0      1  71.2833   First  woman   \n",
       "3           1       1  female  35.0      1  53.1000   First  woman   \n",
       "11          1       1  female  58.0      0  26.5500   First  woman   \n",
       "15          1       2  female  55.0      0  16.0000  Second  woman   \n",
       "18          0       3  female  31.0      1  18.0000   Third  woman   \n",
       "..        ...     ...     ...   ...    ...      ...     ...    ...   \n",
       "862         1       1  female  48.0      0  25.9292   First  woman   \n",
       "865         1       2  female  42.0      0  13.0000  Second  woman   \n",
       "871         1       1  female  47.0      1  52.5542   First  woman   \n",
       "879         1       1  female  56.0      0  83.1583   First  woman   \n",
       "885         0       3  female  39.0      0  29.1250   Third  woman   \n",
       "\n",
       "     adult_male deck  embark_town alive  alone  \n",
       "1         False    C    Cherbourg   yes  False  \n",
       "3         False    C  Southampton   yes  False  \n",
       "11        False    C  Southampton   yes   True  \n",
       "15        False  NaN  Southampton   yes   True  \n",
       "18        False  NaN  Southampton    no  False  \n",
       "..          ...  ...          ...   ...    ...  \n",
       "862       False    D  Southampton   yes   True  \n",
       "865       False  NaN  Southampton   yes   True  \n",
       "871       False    D  Southampton   yes  False  \n",
       "879       False    C    Cherbourg   yes  False  \n",
       "885       False  NaN   Queenstown    no  False  \n",
       "\n",
       "[103 rows x 13 columns]"
      ]
     },
     "execution_count": 30,
     "metadata": {},
     "output_type": "execute_result"
    }
   ],
   "source": [
    "# your code here\n",
    "older_than_30_filter = titanic_df[\"age\"] > 30\n",
    "new_df = titanic_df[older_than_30_filter]\n",
    "women_filter = new_df[\"sex\"] == \"female\"\n",
    "newer_df = new_df[women_filter]\n",
    "newer_df\n",
    "\n"
   ]
  },
  {
   "cell_type": "markdown",
   "metadata": {},
   "source": [
    "Use `pandas` to plot the pie chart of all classes on board the titanic.  "
   ]
  },
  {
   "cell_type": "code",
   "execution_count": 33,
   "metadata": {},
   "outputs": [
    {
     "data": {
      "text/plain": [
       "<Axes: title={'center': 'classes'}, ylabel='count'>"
      ]
     },
     "execution_count": 33,
     "metadata": {},
     "output_type": "execute_result"
    },
    {
     "data": {
      "image/png": "[encoded data removed]",
      "text/plain": [
       "<Figure size 640x480 with 1 Axes>"
      ]
     },
     "metadata": {},
     "output_type": "display_data"
    }
   ],
   "source": [
    "# your code here\n",
    "titanic_df[\"class\"].value_counts().plot(kind = \"pie\", title = \"classes\")"
   ]
  },
  {
   "cell_type": "markdown",
   "metadata": {},
   "source": [
    "use `pandas` to plot the bar chart of all towns that people embarked from.  "
   ]
  },
  {
   "cell_type": "code",
   "execution_count": 36,
   "metadata": {},
   "outputs": [
    {
     "data": {
      "text/plain": [
       "<Axes: title={'center': 'embarked town'}, xlabel='embark_town'>"
      ]
     },
     "execution_count": 36,
     "metadata": {},
     "output_type": "execute_result"
    },
    {
     "data": {
      "image/png": "[encoded data removed]",
      "text/plain": [
       "<Figure size 640x480 with 1 Axes>"
      ]
     },
     "metadata": {},
     "output_type": "display_data"
    }
   ],
   "source": [
    "# your code here\n",
    "titanic_df[\"embark_town\"].value_counts().plot(kind = \"bar\", title = \"embarked town\")"
   ]
  },
  {
   "cell_type": "markdown",
   "metadata": {},
   "source": [
    "# part 2\n",
    "\n",
    "to be continued..."
   ]
  }
 ],
 "metadata": {
  "kernelspec": {
   "display_name": "Python 3",
   "language": "python",
   "name": "python3"
  },
  "language_info": {
   "codemirror_mode": {
    "name": "ipython",
    "version": 3
   },
   "file_extension": ".py",
   "mimetype": "text/x-python",
   "name": "python",
   "nbconvert_exporter": "python",
   "pygments_lexer": "ipython3",
   "version": "3.13.0"
  }
 },
 "nbformat": 4,
 "nbformat_minor": 2
}
