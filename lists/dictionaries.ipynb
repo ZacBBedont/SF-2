{
 "cells": [
  {
   "cell_type": "code",
   "execution_count": 6,
   "metadata": {},
   "outputs": [
    {
     "name": "stdout",
     "output_type": "stream",
     "text": [
      "Monarch:5\n",
      "Painted Lady:3\n",
      "Bronze Copper:12\n",
      "Orange Sulfur:7\n",
      "Common Blue:1\n"
     ]
    }
   ],
   "source": [
    "def new_sighting(kinds, counts,kind):\n",
    "    if kind not in kinds:\n",
    "        kinds.append(kind)\n",
    "        counts.append(1)\n",
    "    else:\n",
    "        index = kinds.index(kind)\n",
    "        counts[index] += 1\n",
    "\n",
    "\n",
    "kinds = [\"Monarch\",\"Painted Lady\", \"Bronze Copper\", \"Orange Sulfur\"]\n",
    "counts = [5,2,12,7]\n",
    "\n",
    "new_sighting(kinds,counts,\"Painted Lady\")\n",
    "new_sighting(kinds,counts,\"Common Blue\")\n",
    "\n",
    "for butterflyPos in range(len(kinds)):\n",
    "    print(f\"{kinds[butterflyPos]}:{counts[butterflyPos]}\")\n",
    "\n"
   ]
  },
  {
   "cell_type": "code",
   "execution_count": 10,
   "metadata": {},
   "outputs": [
    {
     "name": "stdout",
     "output_type": "stream",
     "text": [
      "in it\n"
     ]
    },
    {
     "data": {
      "text/plain": [
       "5"
      ]
     },
     "execution_count": 10,
     "metadata": {},
     "output_type": "execute_result"
    }
   ],
   "source": [
    "d = {\"Monarch\":5, \"Common Blue\": 12}\n",
    "if \"Monarch\" in d:\n",
    "    print(\"in it\")\n",
    "else:\n",
    "    print(\"not in\")\n",
    "d.get(\"Monarch\")"
   ]
  },
  {
   "cell_type": "code",
   "execution_count": 16,
   "metadata": {},
   "outputs": [
    {
     "name": "stdout",
     "output_type": "stream",
     "text": [
      "pears\n",
      "oranges\n",
      "7\n",
      "15\n"
     ]
    },
    {
     "data": {
      "text/plain": [
       "({'pears': 7, 'oranges': 15}, {'pears': 7, 'oranges': 15})"
      ]
     },
     "execution_count": 16,
     "metadata": {},
     "output_type": "execute_result"
    }
   ],
   "source": [
    "d = {\"apples\":3,\"oranges\":12,\"pears\":7,\"bananas\":5}\n",
    "list(d.keys())\n",
    "list(d.values())\n",
    "list(d.items())\n",
    "del d[\"oranges\"]\n",
    "d.pop(\"bananas\") #returns value of popped key and alters list\n",
    "d.update({\"oranges\":15})\n",
    "d.update(apples = 12)\n",
    "d1 = d\n",
    "del d[\"apples\"]\n",
    "for key in d:\n",
    "    print(key)\n",
    "for key in d:\n",
    "    print(d[key])\n",
    "d,d1"
   ]
  }
 ],
 "metadata": {
  "kernelspec": {
   "display_name": "Python 3",
   "language": "python",
   "name": "python3"
  },
  "language_info": {
   "codemirror_mode": {
    "name": "ipython",
    "version": 3
   },
   "file_extension": ".py",
   "mimetype": "text/x-python",
   "name": "python",
   "nbconvert_exporter": "python",
   "pygments_lexer": "ipython3",
   "version": "3.13.0"
  }
 },
 "nbformat": 4,
 "nbformat_minor": 2
}
